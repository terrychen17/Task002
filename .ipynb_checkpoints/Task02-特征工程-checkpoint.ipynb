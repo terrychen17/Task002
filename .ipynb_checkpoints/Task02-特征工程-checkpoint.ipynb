{
 "cells": [
  {
   "cell_type": "markdown",
   "metadata": {},
   "source": [
    "## 特征选择 (判定贷款用户是否逾期)"
   ]
  },
  {
   "cell_type": "markdown",
   "metadata": {},
   "source": [
    "### 数据集导入"
   ]
  },
  {
   "cell_type": "code",
   "execution_count": 5,
   "metadata": {},
   "outputs": [
    {
     "name": "stdout",
     "output_type": "stream",
     "text": [
      "(4754, 89)\n"
     ]
    },
    {
     "data": {
      "text/html": [
       "<div>\n",
       "<style scoped>\n",
       "    .dataframe tbody tr th:only-of-type {\n",
       "        vertical-align: middle;\n",
       "    }\n",
       "\n",
       "    .dataframe tbody tr th {\n",
       "        vertical-align: top;\n",
       "    }\n",
       "\n",
       "    .dataframe thead th {\n",
       "        text-align: right;\n",
       "    }\n",
       "</style>\n",
       "<table border=\"1\" class=\"dataframe\">\n",
       "  <thead>\n",
       "    <tr style=\"text-align: right;\">\n",
       "      <th></th>\n",
       "      <th>custid</th>\n",
       "      <th>trade_no</th>\n",
       "      <th>bank_card_no</th>\n",
       "      <th>low_volume_percent</th>\n",
       "      <th>middle_volume_percent</th>\n",
       "      <th>take_amount_in_later_12_month_highest</th>\n",
       "      <th>trans_amount_increase_rate_lately</th>\n",
       "      <th>trans_activity_month</th>\n",
       "      <th>trans_activity_day</th>\n",
       "      <th>transd_mcc</th>\n",
       "      <th>...</th>\n",
       "      <th>loans_max_limit</th>\n",
       "      <th>loans_avg_limit</th>\n",
       "      <th>consfin_credit_limit</th>\n",
       "      <th>consfin_credibility</th>\n",
       "      <th>consfin_org_count_current</th>\n",
       "      <th>consfin_product_count</th>\n",
       "      <th>consfin_max_limit</th>\n",
       "      <th>consfin_avg_limit</th>\n",
       "      <th>latest_query_day</th>\n",
       "      <th>loans_latest_day</th>\n",
       "    </tr>\n",
       "  </thead>\n",
       "  <tbody>\n",
       "    <tr>\n",
       "      <th>5</th>\n",
       "      <td>2791858</td>\n",
       "      <td>20180507115231274000000023057383</td>\n",
       "      <td>卡号1</td>\n",
       "      <td>0.01</td>\n",
       "      <td>0.99</td>\n",
       "      <td>0</td>\n",
       "      <td>0.90</td>\n",
       "      <td>0.55</td>\n",
       "      <td>0.313</td>\n",
       "      <td>17.0</td>\n",
       "      <td>...</td>\n",
       "      <td>2900.0</td>\n",
       "      <td>1688.0</td>\n",
       "      <td>1200.0</td>\n",
       "      <td>75.0</td>\n",
       "      <td>1.0</td>\n",
       "      <td>2.0</td>\n",
       "      <td>1200.0</td>\n",
       "      <td>1200.0</td>\n",
       "      <td>12.0</td>\n",
       "      <td>18.0</td>\n",
       "    </tr>\n",
       "    <tr>\n",
       "      <th>10</th>\n",
       "      <td>534047</td>\n",
       "      <td>20180507121002192000000023073000</td>\n",
       "      <td>卡号1</td>\n",
       "      <td>0.02</td>\n",
       "      <td>0.94</td>\n",
       "      <td>2000</td>\n",
       "      <td>1.28</td>\n",
       "      <td>1.00</td>\n",
       "      <td>0.458</td>\n",
       "      <td>19.0</td>\n",
       "      <td>...</td>\n",
       "      <td>3500.0</td>\n",
       "      <td>1758.0</td>\n",
       "      <td>15100.0</td>\n",
       "      <td>80.0</td>\n",
       "      <td>5.0</td>\n",
       "      <td>6.0</td>\n",
       "      <td>22800.0</td>\n",
       "      <td>9360.0</td>\n",
       "      <td>4.0</td>\n",
       "      <td>2.0</td>\n",
       "    </tr>\n",
       "    <tr>\n",
       "      <th>12</th>\n",
       "      <td>2849787</td>\n",
       "      <td>20180507125159718000000023114911</td>\n",
       "      <td>卡号1</td>\n",
       "      <td>0.04</td>\n",
       "      <td>0.96</td>\n",
       "      <td>0</td>\n",
       "      <td>1.00</td>\n",
       "      <td>1.00</td>\n",
       "      <td>0.114</td>\n",
       "      <td>13.0</td>\n",
       "      <td>...</td>\n",
       "      <td>1600.0</td>\n",
       "      <td>1250.0</td>\n",
       "      <td>4200.0</td>\n",
       "      <td>87.0</td>\n",
       "      <td>1.0</td>\n",
       "      <td>1.0</td>\n",
       "      <td>4200.0</td>\n",
       "      <td>4200.0</td>\n",
       "      <td>2.0</td>\n",
       "      <td>6.0</td>\n",
       "    </tr>\n",
       "    <tr>\n",
       "      <th>13</th>\n",
       "      <td>1809708</td>\n",
       "      <td>20180507121358683000000388283484</td>\n",
       "      <td>卡号1</td>\n",
       "      <td>0.00</td>\n",
       "      <td>0.96</td>\n",
       "      <td>2000</td>\n",
       "      <td>0.13</td>\n",
       "      <td>0.57</td>\n",
       "      <td>0.777</td>\n",
       "      <td>22.0</td>\n",
       "      <td>...</td>\n",
       "      <td>3200.0</td>\n",
       "      <td>1541.0</td>\n",
       "      <td>16300.0</td>\n",
       "      <td>80.0</td>\n",
       "      <td>5.0</td>\n",
       "      <td>5.0</td>\n",
       "      <td>30000.0</td>\n",
       "      <td>12180.0</td>\n",
       "      <td>2.0</td>\n",
       "      <td>4.0</td>\n",
       "    </tr>\n",
       "    <tr>\n",
       "      <th>14</th>\n",
       "      <td>2499829</td>\n",
       "      <td>20180507115448545000000388205844</td>\n",
       "      <td>卡号1</td>\n",
       "      <td>0.01</td>\n",
       "      <td>0.99</td>\n",
       "      <td>0</td>\n",
       "      <td>0.46</td>\n",
       "      <td>1.00</td>\n",
       "      <td>0.175</td>\n",
       "      <td>13.0</td>\n",
       "      <td>...</td>\n",
       "      <td>2300.0</td>\n",
       "      <td>1630.0</td>\n",
       "      <td>8300.0</td>\n",
       "      <td>79.0</td>\n",
       "      <td>2.0</td>\n",
       "      <td>2.0</td>\n",
       "      <td>8400.0</td>\n",
       "      <td>8250.0</td>\n",
       "      <td>22.0</td>\n",
       "      <td>120.0</td>\n",
       "    </tr>\n",
       "  </tbody>\n",
       "</table>\n",
       "<p>5 rows × 89 columns</p>\n",
       "</div>"
      ],
      "text/plain": [
       "     custid                          trade_no bank_card_no  \\\n",
       "5   2791858  20180507115231274000000023057383          卡号1   \n",
       "10   534047  20180507121002192000000023073000          卡号1   \n",
       "12  2849787  20180507125159718000000023114911          卡号1   \n",
       "13  1809708  20180507121358683000000388283484          卡号1   \n",
       "14  2499829  20180507115448545000000388205844          卡号1   \n",
       "\n",
       "    low_volume_percent  middle_volume_percent  \\\n",
       "5                 0.01                   0.99   \n",
       "10                0.02                   0.94   \n",
       "12                0.04                   0.96   \n",
       "13                0.00                   0.96   \n",
       "14                0.01                   0.99   \n",
       "\n",
       "    take_amount_in_later_12_month_highest  trans_amount_increase_rate_lately  \\\n",
       "5                                       0                               0.90   \n",
       "10                                   2000                               1.28   \n",
       "12                                      0                               1.00   \n",
       "13                                   2000                               0.13   \n",
       "14                                      0                               0.46   \n",
       "\n",
       "    trans_activity_month  trans_activity_day  transd_mcc        ...         \\\n",
       "5                   0.55               0.313        17.0        ...          \n",
       "10                  1.00               0.458        19.0        ...          \n",
       "12                  1.00               0.114        13.0        ...          \n",
       "13                  0.57               0.777        22.0        ...          \n",
       "14                  1.00               0.175        13.0        ...          \n",
       "\n",
       "    loans_max_limit  loans_avg_limit  consfin_credit_limit  \\\n",
       "5            2900.0           1688.0                1200.0   \n",
       "10           3500.0           1758.0               15100.0   \n",
       "12           1600.0           1250.0                4200.0   \n",
       "13           3200.0           1541.0               16300.0   \n",
       "14           2300.0           1630.0                8300.0   \n",
       "\n",
       "    consfin_credibility  consfin_org_count_current  consfin_product_count  \\\n",
       "5                  75.0                        1.0                    2.0   \n",
       "10                 80.0                        5.0                    6.0   \n",
       "12                 87.0                        1.0                    1.0   \n",
       "13                 80.0                        5.0                    5.0   \n",
       "14                 79.0                        2.0                    2.0   \n",
       "\n",
       "    consfin_max_limit  consfin_avg_limit  latest_query_day  loans_latest_day  \n",
       "5              1200.0             1200.0              12.0              18.0  \n",
       "10            22800.0             9360.0               4.0               2.0  \n",
       "12             4200.0             4200.0               2.0               6.0  \n",
       "13            30000.0            12180.0               2.0               4.0  \n",
       "14             8400.0             8250.0              22.0             120.0  \n",
       "\n",
       "[5 rows x 89 columns]"
      ]
     },
     "execution_count": 5,
     "metadata": {},
     "output_type": "execute_result"
    }
   ],
   "source": [
    "import pandas as pd\n",
    "import numpy as np\n",
    "# 因为数据并非utf-8编码，要使用gbk编码读入，否则出错\n",
    "data = pd.read_csv('data.csv', index_col=0, encoding='gbk')\n",
    " \n",
    "# 观察数据构成\n",
    "print(data.shape)    # (4754, 89)\n",
    "data.head()"
   ]
  },
  {
   "cell_type": "markdown",
   "metadata": {},
   "source": [
    "## 数据预处理\n",
    "### 数据切分"
   ]
  },
  {
   "cell_type": "code",
   "execution_count": 6,
   "metadata": {},
   "outputs": [],
   "source": [
    "# 划分 X, y\n",
    "y = data['status']\n",
    "X = data.drop('status', axis=1)"
   ]
  },
  {
   "cell_type": "markdown",
   "metadata": {},
   "source": [
    "### 删除无用变量"
   ]
  },
  {
   "cell_type": "code",
   "execution_count": null,
   "metadata": {},
   "outputs": [],
   "source": [
    "# 首先剔除一些明显无用的特征，如 id_name, custid, trade_no, bank_card_no，\n",
    "# 这些优点类似一个人的唯一信息，如果加入模型训练且对最终模型生效的话，很可能就是出现了过拟合\n",
    "X.drop(['id_name', 'custid', 'trade_no', 'bank_card_no'], axis=1, inplace=True)"
   ]
  },
  {
   "cell_type": "markdown",
   "metadata": {},
   "source": [
    "### 特征类型划分\n",
    "#### 数值型特征"
   ]
  },
  {
   "cell_type": "code",
   "execution_count": 10,
   "metadata": {},
   "outputs": [
    {
     "name": "stdout",
     "output_type": "stream",
     "text": [
      "student_feature                     0.630627\n",
      "cross_consume_count_last_1_month    0.089609\n",
      "latest_three_month_apply            0.063946\n",
      "query_finance_count                 0.063946\n",
      "latest_six_month_apply              0.063946\n",
      "latest_one_month_apply              0.063946\n",
      "query_cash_count                    0.063946\n",
      "query_sum_count                     0.063946\n",
      "query_org_count                     0.063946\n",
      "apply_credibility                   0.063946\n",
      "dtype: float64\n"
     ]
    },
    {
     "data": {
      "image/png": "[encoded data removed]",
      "text/plain": [
       "<matplotlib.figure.Figure at 0x1e362b7a898>"
      ]
     },
     "metadata": {},
     "output_type": "display_data"
    },
    {
     "data": {
      "image/png": "[encoded data removed]",
      "text/plain": [
       "<matplotlib.figure.Figure at 0x1e3645c4240>"
      ]
     },
     "metadata": {},
     "output_type": "display_data"
    },
    {
     "data": {
      "image/png": "[encoded data removed]",
      "text/plain": [
       "<matplotlib.figure.Figure at 0x1e3646259b0>"
      ]
     },
     "metadata": {},
     "output_type": "display_data"
    },
    {
     "data": {
      "image/png": "[encoded data removed]",
      "text/plain": [
       "<matplotlib.figure.Figure at 0x1e36466edd8>"
      ]
     },
     "metadata": {},
     "output_type": "display_data"
    },
    {
     "data": {
      "image/png": "[encoded data removed]",
      "text/plain": [
       "<matplotlib.figure.Figure at 0x1e3646dd898>"
      ]
     },
     "metadata": {},
     "output_type": "display_data"
    }
   ],
   "source": [
    "# 取出数值型特征，观察缺失及分布情况\n",
    "# 取出数值型变量\n",
    "X_num = X.select_dtypes('number').copy()\n",
    "# 查看缺失情况\n",
    "num_miss_rate = 1 - X_num.count() / len(X_num)\n",
    "num_miss_rate.sort_values(ascending=False, inplace=True)\n",
    "print(num_miss_rate[:10])\n",
    "num_miss_rate.plot()\n",
    " \n",
    "# 观察数据分布\n",
    "import matplotlib.pyplot as plt\n",
    "import seaborn as sns\n",
    "%matplotlib inline\n",
    "plt.rcParams['font.sans-serif'] = ['SimHei']  # 用来正常显示中文标签\n",
    "plt.rcParams['axes.unicode_minus'] = False  # 用来正常显示负号\n",
    " \n",
    "for i, col in enumerate(X_num.columns[:5]):\n",
    "    plt.figure(i + 1, figsize=(10, 5))\n",
    "    # # 密度分布图\n",
    "    # sns.distplot(X_num[col][y==1].dropna(), hist=True, kde=True)\n",
    "    # sns.distplot(X_num[col][y==0].dropna(), hist=True, kde=True)\n",
    "    # 分箱图\n",
    "    # sns.boxplot(y=X_num[col], x=y)\n",
    "    # 小提琴图\n",
    "    sns.violinplot(y=X_num[col], x=y)"
   ]
  },
  {
   "cell_type": "code",
   "execution_count": 11,
   "metadata": {},
   "outputs": [],
   "source": [
    "# student_feature\n",
    "X_num.fillna({'student_feature': 0}, inplace=True)\n",
    " \n",
    "# 其他数值型变量使用统计量填充\n",
    "# X_num.fillna(X_num.mean(), inplace=True)  # 均值\n",
    "X_num.fillna(X_num.median(), inplace=True)  # 中位数"
   ]
  },
  {
   "cell_type": "code",
   "execution_count": 12,
   "metadata": {},
   "outputs": [],
   "source": [
    "# 极端值处理函数\n",
    "def iqr_outlier(x, thre=1.5):\n",
    "    x_cl = x.copy()\n",
    "    q25, q75 = x.quantile(q=[0.25, 0.75])\n",
    "    iqr = q75 - q25\n",
    "    top = q75 + thre * iqr\n",
    "    bottom = q25 - thre * iqr\n",
    " \n",
    "    x_cl[x_cl > top] = top\n",
    "    x_cl[x_cl < bottom] = bottom\n",
    " \n",
    "    return x_cl\n",
    " \n",
    "# 对进行缺失值填充后的数据集进行极端值修正\n",
    "X_num_cl = pd.DataFrame()\n",
    "for col in X_num.columns:\n",
    "    X_num_cl[col] = iqr_outlier(X_num[col])\n",
    " \n",
    "X_num = X_num_cl"
   ]
  },
  {
   "cell_type": "markdown",
   "metadata": {},
   "source": [
    "#### 字符型特征"
   ]
  },
  {
   "cell_type": "code",
   "execution_count": 13,
   "metadata": {},
   "outputs": [],
   "source": [
    "# 众数填充\n",
    "X_str['reg_preference_for_trad'] = X_str['reg_preference_for_trad'].fillna(X_str['reg_preference_for_trad'].mode()[0])\n",
    " \n",
    "# 哑变量\n",
    "X_str_dummy = pd.get_dummies(X_str['reg_preference_for_trad'])\n",
    "# 数字编码\n",
    "X_str_map = X_str['reg_preference_for_trad'].map({'一线城市': 0, '二线城市': 1,'三线城市': 2,  '其他城市': 3, '境外': 4})"
   ]
  },
  {
   "cell_type": "markdown",
   "metadata": {},
   "source": [
    "#### 日期/时间型特征"
   ]
  },
  {
   "cell_type": "code",
   "execution_count": 14,
   "metadata": {},
   "outputs": [],
   "source": [
    "X_date = pd.DataFrame()\n",
    "X_date['latest_query_time_month'] = pd.to_datetime(X_str['latest_query_time']).dt.month  # 月份\n",
    "X_date['latest_query_time_weekday'] = pd.to_datetime(X_str['latest_query_time']).dt.weekday  # 星期几\n",
    " \n",
    "X_date['loans_latest_time_month'] = pd.to_datetime(X_str['loans_latest_time']).dt.month  # 月份\n",
    "X_date['loans_latest_time_weekday'] = pd.to_datetime(X_str['loans_latest_time']).dt.weekday  # 星期几\n",
    " \n",
    "X_date.fillna(X_date.median(), inplace=True)"
   ]
  },
  {
   "cell_type": "code",
   "execution_count": 16,
   "metadata": {},
   "outputs": [
    {
     "data": {
      "text/plain": [
       "(4754, 89)"
      ]
     },
     "execution_count": 16,
     "metadata": {},
     "output_type": "execute_result"
    }
   ],
   "source": [
    "X_cl = pd.concat([X_num, X_str_dummy, X_date], axis=1)\n",
    "X_cl.shape #(4754, 89)"
   ]
  },
  {
   "cell_type": "code",
   "execution_count": null,
   "metadata": {},
   "outputs": [],
   "source": []
  },
  {
   "cell_type": "code",
   "execution_count": null,
   "metadata": {},
   "outputs": [],
   "source": []
  },
  {
   "cell_type": "code",
   "execution_count": 7,
   "metadata": {},
   "outputs": [
    {
     "name": "stdout",
     "output_type": "stream",
     "text": [
      "X_cl:(4754, 85)\n"
     ]
    }
   ],
   "source": [
    "# 数值型变量\n",
    "X_num = X.select_dtypes('number').copy()\n",
    "# student_feature\n",
    "X_num.fillna({'student_feature': 0}, inplace=True)\n",
    "# 其他数值型变量使用均值代替\n",
    "X_num.fillna(X_num.mean(), inplace=True)\n",
    " \n",
    "# 字符型变量\n",
    "X_str = X.select_dtypes(exclude='number').copy()\n",
    "X_str_dummy = pd.get_dummies(X_str['reg_preference_for_trad'])\n",
    " \n",
    "# 合并\n",
    "X_cl = pd.concat([X_num, X_str_dummy], axis=1)\n",
    "print(f\"X_cl:{X_cl.shape}\")"
   ]
  },
  {
   "cell_type": "code",
   "execution_count": 9,
   "metadata": {},
   "outputs": [
    {
     "name": "stdout",
     "output_type": "stream",
     "text": [
      "0.22.0\n"
     ]
    }
   ],
   "source": [
    "print(pd.__version__)"
   ]
  },
  {
   "cell_type": "code",
   "execution_count": null,
   "metadata": {},
   "outputs": [],
   "source": []
  },
  {
   "cell_type": "code",
   "execution_count": null,
   "metadata": {},
   "outputs": [],
   "source": []
  }
 ],
 "metadata": {
  "kernelspec": {
   "display_name": "Python 3",
   "language": "python",
   "name": "python3"
  },
  "language_info": {
   "codemirror_mode": {
    "name": "ipython",
    "version": 3
   },
   "file_extension": ".py",
   "mimetype": "text/x-python",
   "name": "python",
   "nbconvert_exporter": "python",
   "pygments_lexer": "ipython3",
   "version": "3.6.4"
  }
 },
 "nbformat": 4,
 "nbformat_minor": 2
}
